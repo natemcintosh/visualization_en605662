{
 "cells": [
  {
   "cell_type": "markdown",
   "metadata": {},
   "source": [
    "# Project 2 - EN.605.662\n",
    "## Due September 28\n",
    "## Nathan McIntosh\n",
    "---\n",
    "Explore and analyze the data using Excel, Google Spreadsheets, R, Python, Matlab, Tableau, or simply by hand (drawing pictures or equations is fine).  What are the characteristics of the data?  Describe each of the data elements and list their category (nominal, ordinal, quantitative, etc...)\n",
    "\n",
    "This notebook is where the data processing will go."
   ]
  },
  {
   "cell_type": "code",
   "execution_count": 1,
   "metadata": {},
   "outputs": [],
   "source": [
    "from glob import glob\n",
    "\n",
    "import pandas as pd\n",
    "import numpy as np\n",
    "import matplotlib.pyplot as plt\n",
    "import seaborn as sns\n",
    "\n",
    "sns.set(style=\"whitegrid\")\n",
    "\n",
    "%matplotlib inline"
   ]
  },
  {
   "cell_type": "code",
   "execution_count": 2,
   "metadata": {},
   "outputs": [
    {
     "name": "stdout",
     "output_type": "stream",
     "text": [
      "<class 'pandas.core.frame.DataFrame'>\n",
      "RangeIndex: 148654 entries, 0 to 148653\n",
      "Data columns (total 13 columns):\n",
      " #   Column            Non-Null Count   Dtype   \n",
      "---  ------            --------------   -----   \n",
      " 0   Id                148654 non-null  int64   \n",
      " 1   EmployeeName      148652 non-null  object  \n",
      " 2   JobTitle          148654 non-null  category\n",
      " 3   BasePay           148045 non-null  float64 \n",
      " 4   OvertimePay       148650 non-null  float64 \n",
      " 5   OtherPay          148650 non-null  float64 \n",
      " 6   Benefits          112491 non-null  float64 \n",
      " 7   TotalPay          148654 non-null  float64 \n",
      " 8   TotalPayBenefits  148654 non-null  float64 \n",
      " 9   Year              148654 non-null  int64   \n",
      " 10  Notes             0 non-null       float64 \n",
      " 11  Agency            148654 non-null  category\n",
      " 12  Status            38119 non-null   category\n",
      "dtypes: category(3), float64(7), int64(2), object(1)\n",
      "memory usage: 12.0+ MB\n"
     ]
    }
   ],
   "source": [
    "data = pd.read_csv(\n",
    "    \"Salaries.csv\", \n",
    "    dtype={\"JobTitle\":\"category\", \"Status\":\"category\", \"Agency\":\"category\"}, \n",
    "    na_values=\"Not Provided\",\n",
    ")\n",
    "data.info()"
   ]
  },
  {
   "cell_type": "markdown",
   "metadata": {},
   "source": [
    "Let's go through each of the columns and examine it in turn\n",
    "\n",
    "---\n",
    "### ID\n",
    "This is an integer. Each employee has a unique ID number. The data is stored in a quantitative data type, but it represents nominal data (each employee gets their own ID number)"
   ]
  },
  {
   "cell_type": "code",
   "execution_count": 3,
   "metadata": {},
   "outputs": [
    {
     "data": {
      "text/plain": [
       "<AxesSubplot:>"
      ]
     },
     "execution_count": 3,
     "metadata": {},
     "output_type": "execute_result"
    },
    {
     "data": {
      "image/png": "[encoded data removed]",
      "text/plain": [
       "<Figure size 432x288 with 1 Axes>"
      ]
     },
     "metadata": {
      "needs_background": "light"
     },
     "output_type": "display_data"
    }
   ],
   "source": [
    "data.Id.hist()"
   ]
  },
  {
   "cell_type": "markdown",
   "metadata": {},
   "source": [
    "As we can see, the IDs are distributed evenly across all the employees. \n",
    "\n",
    "---\n",
    "### EmployeeName\n",
    "EmployeeName is a nominal data type. I would expect that most names are seen at most once or twice, and a few many times"
   ]
  },
  {
   "cell_type": "code",
   "execution_count": 26,
   "metadata": {},
   "outputs": [
    {
     "data": {
      "text/plain": [
       "count        148652\n",
       "unique       110810\n",
       "top       Kevin Lee\n",
       "freq             13\n",
       "Name: EmployeeName, dtype: object"
      ]
     },
     "execution_count": 26,
     "metadata": {},
     "output_type": "execute_result"
    }
   ],
   "source": [
    "data.EmployeeName.describe()"
   ]
  },
  {
   "cell_type": "code",
   "execution_count": 27,
   "metadata": {},
   "outputs": [
    {
     "data": {
      "text/plain": [
       "Kevin Lee            13\n",
       "William Wong         11\n",
       "Steven Lee           11\n",
       "Richard Lee          11\n",
       "Michael Wong          9\n",
       "Stanley Lee           9\n",
       "KEVIN LEE             9\n",
       "John Chan             9\n",
       "DAVID WONG            8\n",
       "William Lee           8\n",
       "David Wong            8\n",
       "RICHARD LEE           8\n",
       "MICHAEL LEE           8\n",
       "Victor Lee            8\n",
       "Michael A Johnson     7\n",
       "MICHAEL BROWN         7\n",
       "Michael Brown         7\n",
       "WILLIAM WONG          7\n",
       "Michael Lee           7\n",
       "John Miller           7\n",
       "Name: EmployeeName, dtype: int64"
      ]
     },
     "execution_count": 27,
     "metadata": {},
     "output_type": "execute_result"
    }
   ],
   "source": [
    "data.EmployeeName.value_counts().head(20)"
   ]
  },
  {
   "cell_type": "markdown",
   "metadata": {},
   "source": [
    "There is clearly some inconsistency in how names are stored: some are all upper case, some just have first letter upper-cased. Let's make it all upper case and see if anythign changes"
   ]
  },
  {
   "cell_type": "code",
   "execution_count": 19,
   "metadata": {},
   "outputs": [
    {
     "data": {
      "text/plain": [
       "KEVIN LEE        22\n",
       "RICHARD LEE      19\n",
       "STEVEN LEE       18\n",
       "WILLIAM WONG     18\n",
       "STANLEY LEE      16\n",
       "DAVID WONG       16\n",
       "MICHAEL LEE      15\n",
       "JOHN CHAN        15\n",
       "MICHAEL WONG     14\n",
       "MICHAEL BROWN    14\n",
       "WILLIAM LEE      14\n",
       "VICTOR LEE       12\n",
       "VINCENT WONG     11\n",
       "SANDY WONG       11\n",
       "JOHN MILLER      11\n",
       "ALAN WONG        11\n",
       "JOHN LEE         11\n",
       "JUAN GARCIA      10\n",
       "THOMAS SMITH     10\n",
       "LINDA LEE        10\n",
       "Name: EmployeeName, dtype: int64"
      ]
     },
     "execution_count": 19,
     "metadata": {},
     "output_type": "execute_result"
    }
   ],
   "source": [
    "data.EmployeeName.str.upper().value_counts().head(20)"
   ]
  },
  {
   "cell_type": "markdown",
   "metadata": {},
   "source": [
    "How often do each of the values appear?"
   ]
  },
  {
   "cell_type": "code",
   "execution_count": 40,
   "metadata": {},
   "outputs": [
    {
     "data": {
      "text/plain": [
       "<AxesSubplot:xlabel='same_name'>"
      ]
     },
     "execution_count": 40,
     "metadata": {},
     "output_type": "execute_result"
    },
    {
     "data": {
      "image/png": "[encoded data removed]",
      "text/plain": [
       "<Figure size 720x432 with 1 Axes>"
      ]
     },
     "metadata": {
      "needs_background": "light"
     },
     "output_type": "display_data"
    }
   ],
   "source": [
    "(\n",
    "    data\n",
    "    .EmployeeName\n",
    "    .str.upper()\n",
    "    .value_counts()\n",
    "    .value_counts(sort=False)\n",
    "    .reset_index()\n",
    "    .rename(columns = {\"index\":\"same_name\", \"EmployeeName\":\"frequency\"})\n",
    "    .plot.bar(x = \"same_name\", figsize = (10,6), )\n",
    ")"
   ]
  },
  {
   "cell_type": "markdown",
   "metadata": {},
   "source": [
    "Looks like there are more names that occur twice than there are names that occur once! This distribution also seems to drop off quite rapidly"
   ]
  },
  {
   "cell_type": "markdown",
   "metadata": {},
   "source": [
    "---\n",
    "### JobTitle"
   ]
  },
  {
   "cell_type": "markdown",
   "metadata": {},
   "source": [
    "---\n",
    "### BasePay"
   ]
  },
  {
   "cell_type": "markdown",
   "metadata": {},
   "source": [
    "---\n",
    "### OvertimePay"
   ]
  },
  {
   "cell_type": "markdown",
   "metadata": {},
   "source": [
    "---\n",
    "### OtherPay"
   ]
  },
  {
   "cell_type": "markdown",
   "metadata": {},
   "source": [
    "---\n",
    "### Benefits"
   ]
  },
  {
   "cell_type": "markdown",
   "metadata": {},
   "source": [
    "---\n",
    "### TotalPay"
   ]
  },
  {
   "cell_type": "markdown",
   "metadata": {},
   "source": [
    "---\n",
    "### TotalPayBenefits"
   ]
  },
  {
   "cell_type": "markdown",
   "metadata": {},
   "source": [
    "---\n",
    "### Year"
   ]
  },
  {
   "cell_type": "markdown",
   "metadata": {},
   "source": [
    "---\n",
    "### Notes"
   ]
  },
  {
   "cell_type": "markdown",
   "metadata": {},
   "source": [
    "---\n",
    "### Agency"
   ]
  },
  {
   "cell_type": "markdown",
   "metadata": {},
   "source": [
    "---\n",
    "### Status"
   ]
  },
  {
   "cell_type": "code",
   "execution_count": null,
   "metadata": {},
   "outputs": [],
   "source": []
  }
 ],
 "metadata": {
  "kernelspec": {
   "display_name": "Python 3",
   "language": "python",
   "name": "python3"
  },
  "language_info": {
   "codemirror_mode": {
    "name": "ipython",
    "version": 3
   },
   "file_extension": ".py",
   "mimetype": "text/x-python",
   "name": "python",
   "nbconvert_exporter": "python",
   "pygments_lexer": "ipython3",
   "version": "3.7.9"
  }
 },
 "nbformat": 4,
 "nbformat_minor": 4
}
