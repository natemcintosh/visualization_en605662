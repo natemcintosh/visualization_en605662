{
 "cells": [
  {
   "cell_type": "markdown",
   "metadata": {},
   "source": [
    "# Project 2 - EN.605.662\n",
    "## Due September 28\n",
    "## Nathan McIntosh\n",
    "---\n",
    "Explore and analyze the data using Excel, Google Spreadsheets, R, Python, Matlab, Tableau, or simply by hand (drawing pictures or equations is fine).  What are the characteristics of the data?  Describe each of the data elements and list their category (nominal, ordinal, quantitative, etc...)\n",
    "\n",
    "This notebook is where the data processing will go."
   ]
  },
  {
   "cell_type": "code",
   "execution_count": 2,
   "metadata": {},
   "outputs": [],
   "source": [
    "from glob import glob\n",
    "\n",
    "import pandas as pd\n",
    "import numpy as np\n",
    "import matplotlib.pyplot as plt\n",
    "import seaborn as sns\n",
    "\n",
    "sns.set(style=\"whitegrid\")\n",
    "\n",
    "%matplotlib inline"
   ]
  },
  {
   "cell_type": "code",
   "execution_count": 3,
   "metadata": {},
   "outputs": [
    {
     "name": "stdout",
     "output_type": "stream",
     "text": [
      "<class 'pandas.core.frame.DataFrame'>\n",
      "RangeIndex: 148654 entries, 0 to 148653\n",
      "Data columns (total 13 columns):\n",
      " #   Column            Non-Null Count   Dtype   \n",
      "---  ------            --------------   -----   \n",
      " 0   Id                148654 non-null  int64   \n",
      " 1   EmployeeName      148652 non-null  object  \n",
      " 2   JobTitle          148654 non-null  category\n",
      " 3   BasePay           148045 non-null  float64 \n",
      " 4   OvertimePay       148650 non-null  float64 \n",
      " 5   OtherPay          148650 non-null  float64 \n",
      " 6   Benefits          112491 non-null  float64 \n",
      " 7   TotalPay          148654 non-null  float64 \n",
      " 8   TotalPayBenefits  148654 non-null  float64 \n",
      " 9   Year              148654 non-null  int64   \n",
      " 10  Notes             0 non-null       float64 \n",
      " 11  Agency            148654 non-null  category\n",
      " 12  Status            38119 non-null   category\n",
      "dtypes: category(3), float64(7), int64(2), object(1)\n",
      "memory usage: 12.0+ MB\n"
     ]
    }
   ],
   "source": [
    "data = pd.read_csv(\n",
    "    \"Salaries.csv\", \n",
    "    dtype={\"JobTitle\":\"category\", \"Status\":\"category\", \"Agency\":\"category\"}, \n",
    "    na_values=\"Not Provided\",\n",
    ")\n",
    "data.info()"
   ]
  },
  {
   "cell_type": "markdown",
   "metadata": {},
   "source": [
    "Let's go through each of the columns and examine it in turn\n",
    "\n",
    "---\n",
    "### ID\n",
    "This is an integer. Each employee has a unique ID number. The data is stored in a quantitative data type, but it represents nominal data (each employee gets their own ID number)"
   ]
  },
  {
   "cell_type": "code",
   "execution_count": 4,
   "metadata": {},
   "outputs": [],
   "source": [
    "def plot_hist_w_labels(df: pd.DataFrame, col: str):\n",
    "    figure = plt.figure(figsize=(10, 6))\n",
    "\n",
    "    axes = figure.add_subplot(1, 1, 1)\n",
    "    axes.hist(df[col])\n",
    "    axes.set_title(f\"Distribution of {col}\")\n",
    "    axes.set_xlabel(col)\n",
    "    axes.set_ylabel(\"Frequency\")"
   ]
  },
  {
   "cell_type": "code",
   "execution_count": 5,
   "metadata": {},
   "outputs": [
    {
     "data": {
      "image/png": "[encoded data removed]",
      "text/plain": [
       "<Figure size 720x432 with 1 Axes>"
      ]
     },
     "metadata": {
      "needs_background": "light"
     },
     "output_type": "display_data"
    }
   ],
   "source": [
    "# data.Id.hist()\n",
    "plot_hist_w_labels(data, \"Id\")"
   ]
  },
  {
   "cell_type": "markdown",
   "metadata": {},
   "source": [
    "As we can see, the IDs are distributed evenly across all the employees. \n",
    "\n",
    "---\n",
    "### EmployeeName\n",
    "EmployeeName is a nominal data type. I would expect that most names are seen at most once or twice, and a few many times"
   ]
  },
  {
   "cell_type": "code",
   "execution_count": 4,
   "metadata": {},
   "outputs": [
    {
     "data": {
      "text/plain": [
       "count        148652\n",
       "unique       110810\n",
       "top       Kevin Lee\n",
       "freq             13\n",
       "Name: EmployeeName, dtype: object"
      ]
     },
     "execution_count": 4,
     "metadata": {},
     "output_type": "execute_result"
    }
   ],
   "source": [
    "data.EmployeeName.describe()"
   ]
  },
  {
   "cell_type": "code",
   "execution_count": 5,
   "metadata": {},
   "outputs": [
    {
     "data": {
      "text/plain": [
       "Kevin Lee            13\n",
       "William Wong         11\n",
       "Steven Lee           11\n",
       "Richard Lee          11\n",
       "Michael Wong          9\n",
       "John Chan             9\n",
       "KEVIN LEE             9\n",
       "Stanley Lee           9\n",
       "William Lee           8\n",
       "RICHARD LEE           8\n",
       "Victor Lee            8\n",
       "DAVID WONG            8\n",
       "MICHAEL LEE           8\n",
       "David Wong            8\n",
       "Michael Brown         7\n",
       "STEVEN LEE            7\n",
       "MICHAEL BROWN         7\n",
       "Amelie E Bullard      7\n",
       "Michael A Johnson     7\n",
       "WILLIAM WONG          7\n",
       "Name: EmployeeName, dtype: int64"
      ]
     },
     "execution_count": 5,
     "metadata": {},
     "output_type": "execute_result"
    }
   ],
   "source": [
    "data.EmployeeName.value_counts().head(20)"
   ]
  },
  {
   "cell_type": "markdown",
   "metadata": {},
   "source": [
    "There is clearly some inconsistency in how names are stored: some are all upper case, some just have first letter upper-cased. Let's make it all upper case and see if anythign changes"
   ]
  },
  {
   "cell_type": "code",
   "execution_count": 6,
   "metadata": {},
   "outputs": [
    {
     "data": {
      "text/plain": [
       "KEVIN LEE        22\n",
       "RICHARD LEE      19\n",
       "WILLIAM WONG     18\n",
       "STEVEN LEE       18\n",
       "DAVID WONG       16\n",
       "STANLEY LEE      16\n",
       "MICHAEL LEE      15\n",
       "JOHN CHAN        15\n",
       "WILLIAM LEE      14\n",
       "MICHAEL WONG     14\n",
       "MICHAEL BROWN    14\n",
       "VICTOR LEE       12\n",
       "ALAN WONG        11\n",
       "JOHN LEE         11\n",
       "VINCENT WONG     11\n",
       "SANDY WONG       11\n",
       "JOHN MILLER      11\n",
       "THOMAS SMITH     10\n",
       "STEPHEN LEE      10\n",
       "ROBERT WONG      10\n",
       "Name: EmployeeName, dtype: int64"
      ]
     },
     "execution_count": 6,
     "metadata": {},
     "output_type": "execute_result"
    }
   ],
   "source": [
    "data.EmployeeName.str.upper().value_counts().head(20)"
   ]
  },
  {
   "cell_type": "markdown",
   "metadata": {},
   "source": [
    "How often do each of the values appear?"
   ]
  },
  {
   "cell_type": "code",
   "execution_count": 8,
   "metadata": {},
   "outputs": [
    {
     "data": {
      "text/plain": [
       "<AxesSubplot:xlabel='same_name'>"
      ]
     },
     "execution_count": 8,
     "metadata": {},
     "output_type": "execute_result"
    },
    {
     "data": {
      "image/png": "[encoded data removed]",
      "text/plain": [
       "<Figure size 720x432 with 1 Axes>"
      ]
     },
     "metadata": {
      "needs_background": "light"
     },
     "output_type": "display_data"
    }
   ],
   "source": [
    "(\n",
    "    data\n",
    "    .EmployeeName\n",
    "    .str.upper()\n",
    "    .value_counts()\n",
    "    .value_counts(sort=False)\n",
    "    .reset_index()\n",
    "    .rename(columns = {\"index\":\"same_name\", \"EmployeeName\":\"frequency\"})\n",
    "    .plot.bar(x = \"same_name\", figsize = (10,6), rot = 0)\n",
    ")"
   ]
  },
  {
   "cell_type": "markdown",
   "metadata": {},
   "source": [
    "Looks like there are more names that occur twice than there are names that occur once! This distribution also seems to drop off quite rapidly"
   ]
  },
  {
   "cell_type": "markdown",
   "metadata": {},
   "source": [
    "---\n",
    "### JobTitle\n",
    "JobTitle is a categorical variable, which is a type of nominal data. This represents the job a person is employed by the city to carry out. "
   ]
  },
  {
   "cell_type": "code",
   "execution_count": 8,
   "metadata": {},
   "outputs": [
    {
     "data": {
      "text/plain": [
       "count               148654\n",
       "unique                2159\n",
       "top       Transit Operator\n",
       "freq                  7036\n",
       "Name: JobTitle, dtype: object"
      ]
     },
     "execution_count": 8,
     "metadata": {},
     "output_type": "execute_result"
    }
   ],
   "source": [
    "data.JobTitle.describe()"
   ]
  },
  {
   "cell_type": "markdown",
   "metadata": {},
   "source": [
    "There are 2159 unique job types. Let's see what some of the most common are"
   ]
  },
  {
   "cell_type": "code",
   "execution_count": 9,
   "metadata": {},
   "outputs": [
    {
     "data": {
      "text/plain": [
       "<AxesSubplot:>"
      ]
     },
     "execution_count": 9,
     "metadata": {},
     "output_type": "execute_result"
    },
    {
     "data": {
      "image/png": "[encoded data removed]",
      "text/plain": [
       "<Figure size 432x288 with 1 Axes>"
      ]
     },
     "metadata": {
      "needs_background": "light"
     },
     "output_type": "display_data"
    }
   ],
   "source": [
    "data.JobTitle.value_counts().head(20).plot.barh()"
   ]
  },
  {
   "cell_type": "markdown",
   "metadata": {},
   "source": [
    "---\n",
    "### BasePay\n",
    "I guess that BasePay is how much an employee receives in their regular paycheck. It is a quantitative value. "
   ]
  },
  {
   "cell_type": "code",
   "execution_count": 10,
   "metadata": {},
   "outputs": [
    {
     "data": {
      "text/plain": [
       "count    148045.000000\n",
       "mean      66325.448840\n",
       "std       42764.635495\n",
       "min        -166.010000\n",
       "25%       33588.200000\n",
       "50%       65007.450000\n",
       "75%       94691.050000\n",
       "max      319275.010000\n",
       "Name: BasePay, dtype: float64"
      ]
     },
     "execution_count": 10,
     "metadata": {},
     "output_type": "execute_result"
    }
   ],
   "source": [
    "data.BasePay.describe()"
   ]
  },
  {
   "cell_type": "markdown",
   "metadata": {},
   "source": [
    "It looks like there are negative values. For the purpose of this analysis, I will assume this is a clerical error, and that negative salaries can be ignored. "
   ]
  },
  {
   "cell_type": "code",
   "execution_count": 10,
   "metadata": {},
   "outputs": [
    {
     "data": {
      "image/png": "[encoded data removed]",
      "text/plain": [
       "<Figure size 720x432 with 1 Axes>"
      ]
     },
     "metadata": {
      "needs_background": "light"
     },
     "output_type": "display_data"
    }
   ],
   "source": [
    "# data.BasePay.hist()\n",
    "plot_hist_w_labels(data, \"BasePay\")"
   ]
  },
  {
   "cell_type": "code",
   "execution_count": 9,
   "metadata": {},
   "outputs": [
    {
     "data": {
      "text/plain": [
       "<AxesSubplot:>"
      ]
     },
     "execution_count": 9,
     "metadata": {},
     "output_type": "execute_result"
    },
    {
     "data": {
      "image/png": "[encoded data removed]",
      "text/plain": [
       "<Figure size 432x288 with 1 Axes>"
      ]
     },
     "metadata": {
      "needs_background": "light"
     },
     "output_type": "display_data"
    }
   ],
   "source": [
    "data.BasePay.plot.box()"
   ]
  },
  {
   "cell_type": "markdown",
   "metadata": {},
   "source": [
    "It looks like the majority of the employees are making somewhere between \\\\$50k and $100k. This makes sense, because the median is \\\\$65k. The number of employees who get paid more than \\\\$100k is rather small. "
   ]
  },
  {
   "cell_type": "markdown",
   "metadata": {},
   "source": [
    "---\n",
    "### OvertimePay\n",
    "OvertimePay is probably how much the employee was paid for overtime work over the course of a year. This is a quantitative variable."
   ]
  },
  {
   "cell_type": "code",
   "execution_count": 12,
   "metadata": {},
   "outputs": [
    {
     "data": {
      "text/plain": [
       "count    148650.000000\n",
       "mean       5066.059886\n",
       "std       11454.380559\n",
       "min          -0.010000\n",
       "25%           0.000000\n",
       "50%           0.000000\n",
       "75%        4658.175000\n",
       "max      245131.880000\n",
       "Name: OvertimePay, dtype: float64"
      ]
     },
     "execution_count": 12,
     "metadata": {},
     "output_type": "execute_result"
    }
   ],
   "source": [
    "data.OvertimePay.describe()"
   ]
  },
  {
   "cell_type": "code",
   "execution_count": 17,
   "metadata": {},
   "outputs": [
    {
     "data": {
      "text/plain": [
       "<AxesSubplot:>"
      ]
     },
     "execution_count": 17,
     "metadata": {},
     "output_type": "execute_result"
    },
    {
     "data": {
      "image/png": "[encoded data removed]",
      "text/plain": [
       "<Figure size 432x288 with 1 Axes>"
      ]
     },
     "metadata": {
      "needs_background": "light"
     },
     "output_type": "display_data"
    }
   ],
   "source": [
    "data.OvertimePay.hist(bins=20)"
   ]
  },
  {
   "cell_type": "code",
   "execution_count": 11,
   "metadata": {},
   "outputs": [
    {
     "data": {
      "image/png": "[encoded data removed]",
      "text/plain": [
       "<Figure size 720x432 with 1 Axes>"
      ]
     },
     "metadata": {
      "needs_background": "light"
     },
     "output_type": "display_data"
    }
   ],
   "source": [
    "plot_hist_w_labels(data, \"OvertimePay\")"
   ]
  },
  {
   "cell_type": "markdown",
   "metadata": {},
   "source": [
    "This shows that the vast majority of overtime pay did not amount to large sums. However, there were a few cases of people who were paid up to and over \\\\$200k"
   ]
  },
  {
   "cell_type": "markdown",
   "metadata": {},
   "source": [
    "---\n",
    "### OtherPay\n",
    "OtherPay is probably income that did not come from the city of San Francisco. It is a quantitative variable"
   ]
  },
  {
   "cell_type": "code",
   "execution_count": 20,
   "metadata": {},
   "outputs": [
    {
     "data": {
      "text/plain": [
       "count    148650.000000\n",
       "mean       3648.767297\n",
       "std        8056.601866\n",
       "min       -7058.590000\n",
       "25%           0.000000\n",
       "50%         811.270000\n",
       "75%        4236.065000\n",
       "max      400184.250000\n",
       "Name: OtherPay, dtype: float64"
      ]
     },
     "execution_count": 20,
     "metadata": {},
     "output_type": "execute_result"
    }
   ],
   "source": [
    "data.OtherPay.describe()"
   ]
  },
  {
   "cell_type": "markdown",
   "metadata": {},
   "source": [
    "Again, the issue of negative values appears. Again I will ignore it for now."
   ]
  },
  {
   "cell_type": "code",
   "execution_count": 12,
   "metadata": {},
   "outputs": [
    {
     "data": {
      "image/png": "[encoded data removed]",
      "text/plain": [
       "<Figure size 720x432 with 1 Axes>"
      ]
     },
     "metadata": {
      "needs_background": "light"
     },
     "output_type": "display_data"
    }
   ],
   "source": [
    "# data.OtherPay.hist()\n",
    "plot_hist_w_labels(data, \"OtherPay\")"
   ]
  },
  {
   "cell_type": "markdown",
   "metadata": {},
   "source": [
    "This shows that very few people make much money outside of their role as a city employee. And once again, there are a very few people who made a considerable amount of money outside of their job for San Francisco"
   ]
  },
  {
   "cell_type": "markdown",
   "metadata": {},
   "source": [
    "---\n",
    "### Benefits\n",
    "Benefits is likely the monetary value of benefits that each employee received."
   ]
  },
  {
   "cell_type": "code",
   "execution_count": 24,
   "metadata": {},
   "outputs": [
    {
     "data": {
      "text/plain": [
       "count    112491.000000\n",
       "mean      25007.893151\n",
       "std       15402.215858\n",
       "min         -33.890000\n",
       "25%       11535.395000\n",
       "50%       28628.620000\n",
       "75%       35566.855000\n",
       "max       96570.660000\n",
       "Name: Benefits, dtype: float64"
      ]
     },
     "execution_count": 24,
     "metadata": {},
     "output_type": "execute_result"
    }
   ],
   "source": [
    "data.Benefits.describe()"
   ]
  },
  {
   "cell_type": "markdown",
   "metadata": {},
   "source": [
    "It seems like most employees are getting a decent bit of benefits from the city. "
   ]
  },
  {
   "cell_type": "code",
   "execution_count": 13,
   "metadata": {},
   "outputs": [
    {
     "data": {
      "image/png": "[encoded data removed]",
      "text/plain": [
       "<Figure size 720x432 with 1 Axes>"
      ]
     },
     "metadata": {
      "needs_background": "light"
     },
     "output_type": "display_data"
    }
   ],
   "source": [
    "# data.Benefits.hist()\n",
    "plot_hist_w_labels(data, \"Benefits\")"
   ]
  },
  {
   "cell_type": "markdown",
   "metadata": {},
   "source": [
    "This shows a bimodal distribution. There are some people who receive < \\\\$5k, and a larger number of people who receieve around \\$30k in benefits. "
   ]
  },
  {
   "cell_type": "markdown",
   "metadata": {},
   "source": [
    "---\n",
    "### TotalPay\n",
    "Total Pay is probably the sum of BasePay, OvertimePay, and OtherPay. Like those, this is a quantitative variable."
   ]
  },
  {
   "cell_type": "code",
   "execution_count": 26,
   "metadata": {},
   "outputs": [
    {
     "data": {
      "text/plain": [
       "count    148654.000000\n",
       "mean      74768.321972\n",
       "std       50517.005274\n",
       "min        -618.130000\n",
       "25%       36168.995000\n",
       "50%       71426.610000\n",
       "75%      105839.135000\n",
       "max      567595.430000\n",
       "Name: TotalPay, dtype: float64"
      ]
     },
     "execution_count": 26,
     "metadata": {},
     "output_type": "execute_result"
    }
   ],
   "source": [
    "data.TotalPay.describe()"
   ]
  },
  {
   "cell_type": "code",
   "execution_count": 14,
   "metadata": {},
   "outputs": [
    {
     "data": {
      "image/png": "[encoded data removed]",
      "text/plain": [
       "<Figure size 720x432 with 1 Axes>"
      ]
     },
     "metadata": {
      "needs_background": "light"
     },
     "output_type": "display_data"
    }
   ],
   "source": [
    "# data.TotalPay.hist()\n",
    "plot_hist_w_labels(data, \"TotalPay\")"
   ]
  },
  {
   "cell_type": "markdown",
   "metadata": {},
   "source": [
    "It seems like the majority of people make < \\\\$100k, and some few make up to and over \\$500k. This also looks a bit like a [lognormal distribution](https://en.wikipedia.org/wiki/Log-normal_distribution)"
   ]
  },
  {
   "cell_type": "markdown",
   "metadata": {},
   "source": [
    "---\n",
    "### TotalPayBenefits\n",
    "TotalPayBenefits is probably the sum of TotalPay and Benefits. It is a quantitative variable. "
   ]
  },
  {
   "cell_type": "code",
   "execution_count": 28,
   "metadata": {},
   "outputs": [
    {
     "data": {
      "text/plain": [
       "count    148654.000000\n",
       "mean      93692.554811\n",
       "std       62793.533483\n",
       "min        -618.130000\n",
       "25%       44065.650000\n",
       "50%       92404.090000\n",
       "75%      132876.450000\n",
       "max      567595.430000\n",
       "Name: TotalPayBenefits, dtype: float64"
      ]
     },
     "execution_count": 28,
     "metadata": {},
     "output_type": "execute_result"
    }
   ],
   "source": [
    "data.TotalPayBenefits.describe()"
   ]
  },
  {
   "cell_type": "code",
   "execution_count": 15,
   "metadata": {},
   "outputs": [
    {
     "data": {
      "image/png": "[encoded data removed]",
      "text/plain": [
       "<Figure size 720x432 with 1 Axes>"
      ]
     },
     "metadata": {
      "needs_background": "light"
     },
     "output_type": "display_data"
    }
   ],
   "source": [
    "# data.TotalPayBenefits.hist()\n",
    "plot_hist_w_labels(data, \"TotalPayBenefits\")"
   ]
  },
  {
   "cell_type": "markdown",
   "metadata": {},
   "source": [
    "Again, this looks somewhat lognormal. The scale is shifted slightly to the right as well, which is as expected."
   ]
  },
  {
   "cell_type": "markdown",
   "metadata": {},
   "source": [
    "---\n",
    "### Year\n",
    "\n",
    "Year is the year for which a row of data is recorded"
   ]
  },
  {
   "cell_type": "code",
   "execution_count": 31,
   "metadata": {},
   "outputs": [
    {
     "data": {
      "text/plain": [
       "2014    38123\n",
       "2013    37606\n",
       "2012    36766\n",
       "2011    36159\n",
       "Name: Year, dtype: int64"
      ]
     },
     "execution_count": 31,
     "metadata": {},
     "output_type": "execute_result"
    }
   ],
   "source": [
    "data.Year.value_counts()"
   ]
  },
  {
   "cell_type": "code",
   "execution_count": 20,
   "metadata": {},
   "outputs": [
    {
     "data": {
      "text/plain": [
       "<AxesSubplot:>"
      ]
     },
     "execution_count": 20,
     "metadata": {},
     "output_type": "execute_result"
    },
    {
     "data": {
      "image/png": "[encoded data removed]",
      "text/plain": [
       "<Figure size 720x432 with 1 Axes>"
      ]
     },
     "metadata": {
      "needs_background": "light"
     },
     "output_type": "display_data"
    }
   ],
   "source": [
    "data.Year.value_counts().plot.barh(figsize = (10,6))"
   ]
  },
  {
   "cell_type": "markdown",
   "metadata": {},
   "source": [
    "Here we can see that the city of San Francisco hired successively more people year on year from 2011 to 2014. "
   ]
  },
  {
   "cell_type": "markdown",
   "metadata": {},
   "source": [
    "---\n",
    "### Notes\n",
    "\n",
    "In this case, there are only NaN values, representing no notes, in all cases. "
   ]
  },
  {
   "cell_type": "code",
   "execution_count": 35,
   "metadata": {},
   "outputs": [
    {
     "data": {
      "text/plain": [
       "array([nan])"
      ]
     },
     "execution_count": 35,
     "metadata": {},
     "output_type": "execute_result"
    }
   ],
   "source": [
    "data.Notes.unique()"
   ]
  },
  {
   "cell_type": "markdown",
   "metadata": {},
   "source": [
    "---\n",
    "### Agency\n",
    "\n",
    "In this case, since everyone worked for the city of San Francisco, that is listed in all cases. "
   ]
  },
  {
   "cell_type": "code",
   "execution_count": 36,
   "metadata": {},
   "outputs": [
    {
     "data": {
      "text/plain": [
       "San Francisco    148654\n",
       "Name: Agency, dtype: int64"
      ]
     },
     "execution_count": 36,
     "metadata": {},
     "output_type": "execute_result"
    }
   ],
   "source": [
    "data.Agency.value_counts()"
   ]
  },
  {
   "cell_type": "markdown",
   "metadata": {},
   "source": [
    "---\n",
    "### Status\n",
    "Status is whether the person worked full time or part time for the city. "
   ]
  },
  {
   "cell_type": "code",
   "execution_count": 46,
   "metadata": {},
   "outputs": [
    {
     "data": {
      "text/plain": [
       "FT    0.585902\n",
       "PT    0.414098\n",
       "Name: Status, dtype: float64"
      ]
     },
     "execution_count": 46,
     "metadata": {},
     "output_type": "execute_result"
    }
   ],
   "source": [
    "data.Status.value_counts(normalize=True)"
   ]
  },
  {
   "cell_type": "code",
   "execution_count": 21,
   "metadata": {},
   "outputs": [
    {
     "data": {
      "text/plain": [
       "<AxesSubplot:>"
      ]
     },
     "execution_count": 21,
     "metadata": {},
     "output_type": "execute_result"
    },
    {
     "data": {
      "image/png": "[encoded data removed]",
      "text/plain": [
       "<Figure size 720x432 with 1 Axes>"
      ]
     },
     "metadata": {
      "needs_background": "light"
     },
     "output_type": "display_data"
    }
   ],
   "source": [
    "data.Status.value_counts().plot.barh(figsize = (10,6))"
   ]
  },
  {
   "cell_type": "markdown",
   "metadata": {},
   "source": [
    "It looks like there were more people who worked for the city full time than part time. However, it is clear that part time workers make up a sizable portion"
   ]
  },
  {
   "cell_type": "code",
   "execution_count": null,
   "metadata": {},
   "outputs": [],
   "source": []
  }
 ],
 "metadata": {
  "kernelspec": {
   "display_name": "Python 3",
   "language": "python",
   "name": "python3"
  },
  "language_info": {
   "codemirror_mode": {
    "name": "ipython",
    "version": 3
   },
   "file_extension": ".py",
   "mimetype": "text/x-python",
   "name": "python",
   "nbconvert_exporter": "python",
   "pygments_lexer": "ipython3",
   "version": "3.7.9"
  }
 },
 "nbformat": 4,
 "nbformat_minor": 4
}
